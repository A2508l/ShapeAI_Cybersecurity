{
  "nbformat": 4,
  "nbformat_minor": 0,
  "metadata": {
    "colab": {
      "name": "Untitled1.ipynb",
      "provenance": [],
      "collapsed_sections": [],
      "authorship_tag": "ABX9TyP+IZ1iy1YGHQIM29jRzvoK",
      "include_colab_link": true
    },
    "kernelspec": {
      "name": "python3",
      "display_name": "Python 3"
    },
    "language_info": {
      "name": "python"
    }
  },
  "cells": [
    {
      "cell_type": "markdown",
      "metadata": {
        "id": "view-in-github",
        "colab_type": "text"
      },
      "source": [
        "<a href=\"https://colab.research.google.com/github/A2508l/ShapeAI_Cybersecurity/blob/main/Untitled1.ipynb\" target=\"_parent\"><img src=\"https://colab.research.google.com/assets/colab-badge.svg\" alt=\"Open In Colab\"/></a>"
      ]
    },
    {
      "cell_type": "code",
      "metadata": {
        "colab": {
          "base_uri": "https://localhost:8080/"
        },
        "id": "I5bbhx9Rst7X",
        "outputId": "1f68e092-457b-44bc-d541-025d2e157627"
      },
      "source": [
        "import hashlib as hl\n",
        "print(hl.algorithms_available)"
      ],
      "execution_count": 3,
      "outputs": [
        {
          "output_type": "stream",
          "text": [
            "{'sha224', 'sha512', 'blake2b', 'sha256', 'sha3_224', 'shake_256', 'sha3_256', 'sha3_384', 'md5', 'shake_128', 'sha1', 'sha3_512', 'blake2s', 'sha384'}\n"
          ],
          "name": "stdout"
        }
      ]
    },
    {
      "cell_type": "code",
      "metadata": {
        "colab": {
          "base_uri": "https://localhost:8080/"
        },
        "id": "--evxTUdtk2N",
        "outputId": "685f04ff-ab26-4721-8420-6ad15c38547b"
      },
      "source": [
        "key = \"shapeai\"\n",
        "result = hl.md5(key.encode()).hexdigest()\n",
        "print(\"The hashed result is\",result)"
      ],
      "execution_count": 18,
      "outputs": [
        {
          "output_type": "stream",
          "text": [
            "The hashed result is <md5 HASH object @ 0x7fefcadd91b0>\n"
          ],
          "name": "stdout"
        }
      ]
    }
  ]
}